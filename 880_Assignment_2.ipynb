{
  "nbformat": 4,
  "nbformat_minor": 0,
  "metadata": {
    "colab": {
      "name": "880 Assignment 2.ipynb",
      "provenance": [],
      "collapsed_sections": [],
      "authorship_tag": "ABX9TyO2yYjrasdFUmjdmNfYJ4hw",
      "include_colab_link": true
    },
    "kernelspec": {
      "name": "python3",
      "display_name": "Python 3"
    },
    "language_info": {
      "name": "python"
    }
  },
  "cells": [
    {
      "cell_type": "markdown",
      "metadata": {
        "id": "view-in-github",
        "colab_type": "text"
      },
      "source": [
        "<a href=\"https://colab.research.google.com/github/WeiyangBellaBao/Stock-Prediction-Models/blob/master/880_Assignment_2.ipynb\" target=\"_parent\"><img src=\"https://colab.research.google.com/assets/colab-badge.svg\" alt=\"Open In Colab\"/></a>"
      ]
    },
    {
      "cell_type": "code",
      "source": [
        "!pip install bioinfokit"
      ],
      "metadata": {
        "colab": {
          "base_uri": "https://localhost:8080/"
        },
        "id": "5eCPVtiAD3J1",
        "outputId": "9eeae3f3-968f-440a-c484-cbcc4d19da05"
      },
      "execution_count": 3,
      "outputs": [
        {
          "output_type": "stream",
          "name": "stdout",
          "text": [
            "Collecting bioinfokit\n",
            "  Downloading bioinfokit-2.0.8.tar.gz (84 kB)\n",
            "\u001b[?25l\r\u001b[K     |███▉                            | 10 kB 9.4 MB/s eta 0:00:01\r\u001b[K     |███████▊                        | 20 kB 15.1 MB/s eta 0:00:01\r\u001b[K     |███████████▋                    | 30 kB 19.4 MB/s eta 0:00:01\r\u001b[K     |███████████████▌                | 40 kB 22.6 MB/s eta 0:00:01\r\u001b[K     |███████████████████▍            | 51 kB 25.0 MB/s eta 0:00:01\r\u001b[K     |███████████████████████▎        | 61 kB 27.5 MB/s eta 0:00:01\r\u001b[K     |███████████████████████████     | 71 kB 29.4 MB/s eta 0:00:01\r\u001b[K     |███████████████████████████████ | 81 kB 31.8 MB/s eta 0:00:01\r\u001b[K     |████████████████████████████████| 84 kB 2.9 MB/s \n",
            "\u001b[?25hRequirement already satisfied: pandas in /usr/local/lib/python3.7/dist-packages (from bioinfokit) (1.3.5)\n",
            "Requirement already satisfied: numpy in /usr/local/lib/python3.7/dist-packages (from bioinfokit) (1.19.5)\n",
            "Requirement already satisfied: matplotlib in /usr/local/lib/python3.7/dist-packages (from bioinfokit) (3.2.2)\n",
            "Requirement already satisfied: scipy in /usr/local/lib/python3.7/dist-packages (from bioinfokit) (1.4.1)\n",
            "Requirement already satisfied: scikit-learn in /usr/local/lib/python3.7/dist-packages (from bioinfokit) (1.0.2)\n",
            "Requirement already satisfied: seaborn in /usr/local/lib/python3.7/dist-packages (from bioinfokit) (0.11.2)\n",
            "Requirement already satisfied: matplotlib-venn in /usr/local/lib/python3.7/dist-packages (from bioinfokit) (0.11.6)\n",
            "Requirement already satisfied: tabulate in /usr/local/lib/python3.7/dist-packages (from bioinfokit) (0.8.9)\n",
            "Requirement already satisfied: statsmodels in /usr/local/lib/python3.7/dist-packages (from bioinfokit) (0.10.2)\n",
            "Collecting textwrap3\n",
            "  Downloading textwrap3-0.9.2-py2.py3-none-any.whl (12 kB)\n",
            "Collecting adjustText\n",
            "  Downloading adjustText-0.7.3.tar.gz (7.5 kB)\n",
            "Requirement already satisfied: cycler>=0.10 in /usr/local/lib/python3.7/dist-packages (from matplotlib->bioinfokit) (0.11.0)\n",
            "Requirement already satisfied: pyparsing!=2.0.4,!=2.1.2,!=2.1.6,>=2.0.1 in /usr/local/lib/python3.7/dist-packages (from matplotlib->bioinfokit) (3.0.7)\n",
            "Requirement already satisfied: kiwisolver>=1.0.1 in /usr/local/lib/python3.7/dist-packages (from matplotlib->bioinfokit) (1.3.2)\n",
            "Requirement already satisfied: python-dateutil>=2.1 in /usr/local/lib/python3.7/dist-packages (from matplotlib->bioinfokit) (2.8.2)\n",
            "Requirement already satisfied: six>=1.5 in /usr/local/lib/python3.7/dist-packages (from python-dateutil>=2.1->matplotlib->bioinfokit) (1.15.0)\n",
            "Requirement already satisfied: pytz>=2017.3 in /usr/local/lib/python3.7/dist-packages (from pandas->bioinfokit) (2018.9)\n",
            "Requirement already satisfied: joblib>=0.11 in /usr/local/lib/python3.7/dist-packages (from scikit-learn->bioinfokit) (1.1.0)\n",
            "Requirement already satisfied: threadpoolctl>=2.0.0 in /usr/local/lib/python3.7/dist-packages (from scikit-learn->bioinfokit) (3.1.0)\n",
            "Requirement already satisfied: patsy>=0.4.0 in /usr/local/lib/python3.7/dist-packages (from statsmodels->bioinfokit) (0.5.2)\n",
            "Building wheels for collected packages: bioinfokit, adjustText\n",
            "  Building wheel for bioinfokit (setup.py) ... \u001b[?25l\u001b[?25hdone\n",
            "  Created wheel for bioinfokit: filename=bioinfokit-2.0.8-py3-none-any.whl size=56750 sha256=8300a32b760075a4104708133afa2d44d465eaace29c2d3bbf8d6e039d1d4d18\n",
            "  Stored in directory: /root/.cache/pip/wheels/0d/b0/a4/2be59655e33c889f2197d43e99ed077f05a6559e24ce28e21a\n",
            "  Building wheel for adjustText (setup.py) ... \u001b[?25l\u001b[?25hdone\n",
            "  Created wheel for adjustText: filename=adjustText-0.7.3-py3-none-any.whl size=7097 sha256=39730ea6691c806c4963e789b42690db3c458e908c2bbfcf82cac93619405094\n",
            "  Stored in directory: /root/.cache/pip/wheels/2f/98/32/afbf902d8f040fadfdf0a44357e4ab750afe165d873bf5893d\n",
            "Successfully built bioinfokit adjustText\n",
            "Installing collected packages: textwrap3, adjustText, bioinfokit\n",
            "Successfully installed adjustText-0.7.3 bioinfokit-2.0.8 textwrap3-0.9.2\n"
          ]
        }
      ]
    },
    {
      "cell_type": "code",
      "execution_count": 4,
      "metadata": {
        "colab": {
          "base_uri": "https://localhost:8080/"
        },
        "id": "6xtMFoMADgor",
        "outputId": "51584c29-5dbb-4293-9f07-cfd783ad8868"
      },
      "outputs": [
        {
          "output_type": "stream",
          "name": "stderr",
          "text": [
            "/usr/local/lib/python3.7/dist-packages/statsmodels/tools/_testing.py:19: FutureWarning: pandas.util.testing is deprecated. Use the functions in the public API at pandas.testing instead.\n",
            "  import pandas.util.testing as tm\n"
          ]
        },
        {
          "output_type": "stream",
          "name": "stdout",
          "text": [
            "Ttest_indResult(statistic=-2.0671074881047646, pvalue=0.03936608662151155)\n",
            "\n",
            "Two sample t-test with equal variance\n",
            "\n",
            "------------------  -----------\n",
            "Mean diff            -0.352185\n",
            "t                    -2.09231\n",
            "Std Error             0.168323\n",
            "df                  450\n",
            "P-value (one-tail)    0.0184851\n",
            "P-value (two-tail)    0.0369702\n",
            "Lower 95.0%          -0.682982\n",
            "Upper 95.0%          -0.0213878\n",
            "------------------  -----------\n",
            "\n",
            "Parameter estimates\n",
            "\n",
            "Level            Number     Mean    Std Dev    Std Error    Lower 95.0%    Upper 95.0%\n",
            "-------------  --------  -------  ---------  -----------  -------------  -------------\n",
            "Control Group       197  6.27919    1.86761     0.133062        6.01677        6.5416\n",
            "Pilot Group         255  6.63137    1.69918     0.106407        6.42182        6.84092\n",
            "\n"
          ]
        }
      ],
      "source": [
        "import pandas as pd\n",
        "from scipy.stats import ttest_ind\n",
        "from bioinfokit.analys import stat\n",
        "\n",
        "title = 'Compared to previous conversations, rate the quality of the  performance conversation with your manager.'\n",
        "\n",
        "data = pd.read_excel(\"AMD_2019.xlsx\")\n",
        "data.dropna(inplace=True)\n",
        "cg = data.loc[data['Pilot'] == 'Control Group']\n",
        "pg = data.loc[data['Pilot'] == 'Pilot Group']\n",
        "\n",
        "\n",
        "print(ttest_ind(cg[title], pg[title], equal_var=False))\n",
        "res = stat()\n",
        "res.ttest(df=data,xfac='Pilot',res=title,test_type=2)\n",
        "print(res.summary)"
      ]
    },
    {
      "cell_type": "code",
      "source": [
        "import pandas as pd\n",
        "from scipy.stats import ttest_ind\n",
        "from bioinfokit.analys import stat\n",
        "\n",
        "title = 'How fair are the following?-Overall, the procedures used in determining my pay'\n",
        "\n",
        "data = pd.read_excel(\"AMD_2019.xlsx\")\n",
        "data.dropna(inplace=True)\n",
        "cg = data.loc[data['Pilot'] == 'Control Group']\n",
        "pg = data.loc[data['Pilot'] == 'Pilot Group']\n",
        "\n",
        "\n",
        "print(ttest_ind(cg[title], pg[title], equal_var=False))\n",
        "res = stat()\n",
        "res.ttest(df=data,xfac='Pilot',res=title,test_type=2)\n",
        "print(res.summary)"
      ],
      "metadata": {
        "colab": {
          "base_uri": "https://localhost:8080/"
        },
        "id": "Awi3IqrMGhJa",
        "outputId": "1ec07f22-1f0d-414e-d870-6db8edbddf3d"
      },
      "execution_count": 5,
      "outputs": [
        {
          "output_type": "stream",
          "name": "stdout",
          "text": [
            "Ttest_indResult(statistic=-3.041319628421294, pvalue=0.002505260158897281)\n",
            "\n",
            "Two sample t-test with equal variance\n",
            "\n",
            "------------------  ------------\n",
            "Mean diff            -0.41485\n",
            "t                    -3.0557\n",
            "Std Error             0.135763\n",
            "df                  450\n",
            "P-value (one-tail)    0.00118943\n",
            "P-value (two-tail)    0.00237887\n",
            "Lower 95.0%          -0.681658\n",
            "Upper 95.0%          -0.148042\n",
            "------------------  ------------\n",
            "\n",
            "Parameter estimates\n",
            "\n",
            "Level            Number     Mean    Std Dev    Std Error    Lower 95.0%    Upper 95.0%\n",
            "-------------  --------  -------  ---------  -----------  -------------  -------------\n",
            "Control Group       197  4.62437    1.46072    0.104072         4.41912        4.82961\n",
            "Pilot Group         255  5.03922    1.40809    0.0881778        4.86556        5.21287\n",
            "\n"
          ]
        }
      ]
    },
    {
      "cell_type": "code",
      "source": [
        "import pandas as pd\n",
        "from scipy.stats import ttest_ind\n",
        "from bioinfokit.analys import stat\n",
        "\n",
        "title = 'How fair are the following?-Overall, the procedures used in determining my pay'\n",
        "\n",
        "data = pd.read_excel(\"AMD_2019.xlsx\")\n",
        "data.dropna(inplace=True)\n",
        "cg = data.loc[data['Pilot'] == 'Control Group']\n",
        "pg = data.loc[data['Pilot'] == 'Pilot Group']\n",
        "\n",
        "\n",
        "print(ttest_ind(cg[title], pg[title], equal_var=False))\n",
        "res = stat()\n",
        "res.ttest(df=data,xfac='Pilot',res=title,test_type=2)\n",
        "print(res.summary)"
      ],
      "metadata": {
        "colab": {
          "base_uri": "https://localhost:8080/"
        },
        "id": "xnFWAFCFKUZQ",
        "outputId": "04aa216c-b682-417b-a91a-119e3cbb9a4c"
      },
      "execution_count": 6,
      "outputs": [
        {
          "output_type": "stream",
          "name": "stdout",
          "text": [
            "Ttest_indResult(statistic=-3.041319628421294, pvalue=0.002505260158897281)\n",
            "\n",
            "Two sample t-test with equal variance\n",
            "\n",
            "------------------  ------------\n",
            "Mean diff            -0.41485\n",
            "t                    -3.0557\n",
            "Std Error             0.135763\n",
            "df                  450\n",
            "P-value (one-tail)    0.00118943\n",
            "P-value (two-tail)    0.00237887\n",
            "Lower 95.0%          -0.681658\n",
            "Upper 95.0%          -0.148042\n",
            "------------------  ------------\n",
            "\n",
            "Parameter estimates\n",
            "\n",
            "Level            Number     Mean    Std Dev    Std Error    Lower 95.0%    Upper 95.0%\n",
            "-------------  --------  -------  ---------  -----------  -------------  -------------\n",
            "Control Group       197  4.62437    1.46072    0.104072         4.41912        4.82961\n",
            "Pilot Group         255  5.03922    1.40809    0.0881778        4.86556        5.21287\n",
            "\n"
          ]
        }
      ]
    },
    {
      "cell_type": "code",
      "source": [
        "import numpy as np\n",
        "import statsmodels.api as sm\n",
        "data = pd.read_excel(\"AMD_2019.xlsx\")\n",
        "data.dropna(inplace=True)\n",
        "pg = data.loc[data['Pilot'] == 'Pilot Group']\n",
        "pg['average'] = pg.iloc[:, 20:23].astype(float).mean(axis=1)\n"
      ],
      "metadata": {
        "colab": {
          "base_uri": "https://localhost:8080/"
        },
        "id": "w9HKqB8hK-b8",
        "outputId": "223a4c69-bb4c-4a6d-a64e-b76eacf9eb39"
      },
      "execution_count": 12,
      "outputs": [
        {
          "output_type": "stream",
          "name": "stdout",
          "text": [
            "     Please answer the following questions about your job.-I am enthusiastic about my job.  ...  Please answer the following questions about your job.-To me, my job is challenging.\n",
            "20                                                 7.0                                      ...                                                7.0                                  \n",
            "23                                                 6.0                                      ...                                                6.0                                  \n",
            "30                                                 5.0                                      ...                                                7.0                                  \n",
            "34                                                 4.0                                      ...                                                6.0                                  \n",
            "35                                                 6.0                                      ...                                                6.0                                  \n",
            "..                                                 ...                                      ...                                                ...                                  \n",
            "777                                                6.0                                      ...                                                5.0                                  \n",
            "790                                                7.0                                      ...                                                7.0                                  \n",
            "795                                                5.0                                      ...                                                5.0                                  \n",
            "805                                                6.0                                      ...                                                6.0                                  \n",
            "808                                                5.0                                      ...                                                5.0                                  \n",
            "\n",
            "[255 rows x 3 columns]\n",
            "20     7.000000\n",
            "23     6.000000\n",
            "30     6.000000\n",
            "34     5.333333\n",
            "35     6.000000\n",
            "         ...   \n",
            "777    5.333333\n",
            "790    7.000000\n",
            "795    5.333333\n",
            "805    6.000000\n",
            "808    5.000000\n",
            "Name: average, Length: 255, dtype: float64\n"
          ]
        },
        {
          "output_type": "stream",
          "name": "stderr",
          "text": [
            "/usr/local/lib/python3.7/dist-packages/ipykernel_launcher.py:6: SettingWithCopyWarning: \n",
            "A value is trying to be set on a copy of a slice from a DataFrame.\n",
            "Try using .loc[row_indexer,col_indexer] = value instead\n",
            "\n",
            "See the caveats in the documentation: https://pandas.pydata.org/pandas-docs/stable/user_guide/indexing.html#returning-a-view-versus-a-copy\n",
            "  \n"
          ]
        }
      ]
    }
  ]
}